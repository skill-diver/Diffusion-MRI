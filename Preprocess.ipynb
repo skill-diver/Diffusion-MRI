{
 "nbformat": 4,
 "nbformat_minor": 0,
 "metadata": {
  "colab": {
   "provenance": [],
   "machine_shape": "hm",
   "authorship_tag": "ABX9TyMWzu48CD1/sqwl5aaow0/X"
  },
  "kernelspec": {
   "name": "python3",
   "display_name": "Python 3"
  },
  "language_info": {
   "name": "python"
  }
 },
 "cells": [
  {
   "cell_type": "code",
   "execution_count": 1,
   "metadata": {
    "colab": {
     "base_uri": "https://localhost:8080/"
    },
    "id": "YPTTH3ByF9LB",
    "executionInfo": {
     "status": "ok",
     "timestamp": 1687037913765,
     "user_tz": 240,
     "elapsed": 15832,
     "user": {
      "displayName": "yumeng zhang",
      "userId": "05463727220540588674"
     }
    },
    "outputId": "576a5b52-9986-4e7a-c0d9-9d5f87bcaf0c"
   },
   "outputs": [
    {
     "output_type": "stream",
     "name": "stdout",
     "text": [
      "Mounted at /content/drive\n"
     ]
    }
   ],
   "source": [
    "from google.colab import drive\n",
    "drive.mount('/content/drive')"
   ]
  },
  {
   "cell_type": "code",
   "source": [
    "! pip install monai==1.1.0"
   ],
   "metadata": {
    "colab": {
     "base_uri": "https://localhost:8080/"
    },
    "id": "1Bvm4-myby3-",
    "executionInfo": {
     "status": "ok",
     "timestamp": 1687038359090,
     "user_tz": 240,
     "elapsed": 5568,
     "user": {
      "displayName": "yumeng zhang",
      "userId": "05463727220540588674"
     }
    },
    "outputId": "db4cb14d-005c-46c8-ca24-5091cac3c3b7"
   },
   "execution_count": 3,
   "outputs": [
    {
     "output_type": "stream",
     "name": "stdout",
     "text": [
      "Looking in indexes: https://pypi.org/simple, https://us-python.pkg.dev/colab-wheels/public/simple/\n",
      "Collecting monai==1.1.0\n",
      "  Downloading monai-1.1.0-202212191849-py3-none-any.whl (1.2 MB)\n",
      "\u001B[2K     \u001B[90m━━━━━━━━━━━━━━━━━━━━━━━━━━━━━━━━━━━━━━━━\u001B[0m \u001B[32m1.2/1.2 MB\u001B[0m \u001B[31m51.4 MB/s\u001B[0m eta \u001B[36m0:00:00\u001B[0m\n",
      "\u001B[?25hRequirement already satisfied: torch>=1.8 in /usr/local/lib/python3.10/dist-packages (from monai==1.1.0) (2.0.1+cu118)\n",
      "Requirement already satisfied: numpy>=1.17 in /usr/local/lib/python3.10/dist-packages (from monai==1.1.0) (1.22.4)\n",
      "Requirement already satisfied: filelock in /usr/local/lib/python3.10/dist-packages (from torch>=1.8->monai==1.1.0) (3.12.0)\n",
      "Requirement already satisfied: typing-extensions in /usr/local/lib/python3.10/dist-packages (from torch>=1.8->monai==1.1.0) (4.5.0)\n",
      "Requirement already satisfied: sympy in /usr/local/lib/python3.10/dist-packages (from torch>=1.8->monai==1.1.0) (1.11.1)\n",
      "Requirement already satisfied: networkx in /usr/local/lib/python3.10/dist-packages (from torch>=1.8->monai==1.1.0) (3.1)\n",
      "Requirement already satisfied: jinja2 in /usr/local/lib/python3.10/dist-packages (from torch>=1.8->monai==1.1.0) (3.1.2)\n",
      "Requirement already satisfied: triton==2.0.0 in /usr/local/lib/python3.10/dist-packages (from torch>=1.8->monai==1.1.0) (2.0.0)\n",
      "Requirement already satisfied: cmake in /usr/local/lib/python3.10/dist-packages (from triton==2.0.0->torch>=1.8->monai==1.1.0) (3.25.2)\n",
      "Requirement already satisfied: lit in /usr/local/lib/python3.10/dist-packages (from triton==2.0.0->torch>=1.8->monai==1.1.0) (16.0.5)\n",
      "Requirement already satisfied: MarkupSafe>=2.0 in /usr/local/lib/python3.10/dist-packages (from jinja2->torch>=1.8->monai==1.1.0) (2.1.2)\n",
      "Requirement already satisfied: mpmath>=0.19 in /usr/local/lib/python3.10/dist-packages (from sympy->torch>=1.8->monai==1.1.0) (1.3.0)\n",
      "Installing collected packages: monai\n",
      "Successfully installed monai-1.1.0\n"
     ]
    }
   ]
  },
  {
   "cell_type": "code",
   "source": [
    "import os\n",
    "import matplotlib.pyplot as plt\n",
    "import numpy as np\n",
    "import nibabel\n",
    "from tqdm import tqdm\n",
    "from monai import transforms\n",
    "import gc"
   ],
   "metadata": {
    "id": "zsuf6o-bGCY8",
    "executionInfo": {
     "status": "ok",
     "timestamp": 1687038373198,
     "user_tz": 240,
     "elapsed": 12619,
     "user": {
      "displayName": "yumeng zhang",
      "userId": "05463727220540588674"
     }
    }
   },
   "execution_count": 4,
   "outputs": []
  },
  {
   "cell_type": "code",
   "source": [
    "root_dir = \"/content/drive/MyDrive/BRATS_2021/BraTS2021/\"\n",
    "target_dir = \"/content/drive/MyDrive/diff_repaint/data/\"\n",
    "dir_list = sorted(os.listdir(root_dir))\n",
    "dir_list = dir_list[1:]"
   ],
   "metadata": {
    "id": "pPGeGJ8cGS2o"
   },
   "execution_count": null,
   "outputs": []
  },
  {
   "cell_type": "code",
   "source": [
    "print(len(dir_list))"
   ],
   "metadata": {
    "colab": {
     "base_uri": "https://localhost:8080/"
    },
    "id": "Es_xtpr3UqQ9",
    "executionInfo": {
     "status": "ok",
     "timestamp": 1685984635842,
     "user_tz": 240,
     "elapsed": 3,
     "user": {
      "displayName": "yumeng zhang",
      "userId": "05463727220540588674"
     }
    },
    "outputId": "741761c3-3ce8-4ca6-82a4-c0015f99636b"
   },
   "execution_count": null,
   "outputs": [
    {
     "output_type": "stream",
     "name": "stdout",
     "text": [
      "1251\n"
     ]
    }
   ]
  },
  {
   "cell_type": "code",
   "source": [
    "print(dir_list)"
   ],
   "metadata": {
    "colab": {
     "base_uri": "https://localhost:8080/"
    },
    "id": "dUWyL-tZUtGV",
    "executionInfo": {
     "status": "ok",
     "timestamp": 1685983997603,
     "user_tz": 240,
     "elapsed": 2,
     "user": {
      "displayName": "yumeng zhang",
      "userId": "05463727220540588674"
     }
    },
    "outputId": "757d7d0b-a496-41f5-9ddc-b4723e794e7b"
   },
   "execution_count": null,
   "outputs": [
    {
     "output_type": "stream",
     "name": "stdout",
     "text": [
      "['BraTS2021_00000', 'BraTS2021_00002', 'BraTS2021_00003', 'BraTS2021_00005', 'BraTS2021_00006', 'BraTS2021_00008', 'BraTS2021_00009', 'BraTS2021_00011', 'BraTS2021_00012', 'BraTS2021_00014', 'BraTS2021_00016', 'BraTS2021_00017', 'BraTS2021_00018', 'BraTS2021_00019', 'BraTS2021_00020', 'BraTS2021_00021', 'BraTS2021_00022', 'BraTS2021_00024', 'BraTS2021_00025', 'BraTS2021_00026', 'BraTS2021_00028', 'BraTS2021_00030', 'BraTS2021_00031', 'BraTS2021_00032', 'BraTS2021_00033', 'BraTS2021_00035', 'BraTS2021_00036', 'BraTS2021_00043', 'BraTS2021_00044', 'BraTS2021_00045', 'BraTS2021_00046', 'BraTS2021_00048', 'BraTS2021_00049', 'BraTS2021_00051', 'BraTS2021_00052', 'BraTS2021_00053', 'BraTS2021_00054', 'BraTS2021_00056', 'BraTS2021_00058', 'BraTS2021_00059', 'BraTS2021_00060', 'BraTS2021_00061', 'BraTS2021_00062', 'BraTS2021_00063', 'BraTS2021_00064', 'BraTS2021_00066', 'BraTS2021_00068', 'BraTS2021_00070', 'BraTS2021_00071', 'BraTS2021_00072', 'BraTS2021_00074', 'BraTS2021_00077', 'BraTS2021_00078', 'BraTS2021_00081', 'BraTS2021_00084', 'BraTS2021_00085', 'BraTS2021_00087', 'BraTS2021_00088', 'BraTS2021_00089', 'BraTS2021_00090', 'BraTS2021_00094', 'BraTS2021_00095', 'BraTS2021_00096', 'BraTS2021_00097', 'BraTS2021_00098', 'BraTS2021_00099', 'BraTS2021_00100', 'BraTS2021_00101', 'BraTS2021_00102', 'BraTS2021_00103', 'BraTS2021_00104', 'BraTS2021_00105', 'BraTS2021_00106', 'BraTS2021_00107', 'BraTS2021_00108', 'BraTS2021_00109', 'BraTS2021_00110', 'BraTS2021_00111', 'BraTS2021_00112', 'BraTS2021_00113', 'BraTS2021_00115', 'BraTS2021_00116', 'BraTS2021_00117', 'BraTS2021_00118', 'BraTS2021_00120', 'BraTS2021_00121', 'BraTS2021_00122', 'BraTS2021_00123', 'BraTS2021_00124', 'BraTS2021_00126', 'BraTS2021_00127', 'BraTS2021_00128', 'BraTS2021_00130', 'BraTS2021_00131', 'BraTS2021_00132', 'BraTS2021_00133', 'BraTS2021_00134', 'BraTS2021_00136', 'BraTS2021_00137', 'BraTS2021_00138', 'BraTS2021_00139', 'BraTS2021_00140', 'BraTS2021_00142', 'BraTS2021_00143', 'BraTS2021_00144', 'BraTS2021_00146', 'BraTS2021_00147', 'BraTS2021_00148', 'BraTS2021_00149', 'BraTS2021_00150', 'BraTS2021_00151', 'BraTS2021_00152', 'BraTS2021_00154', 'BraTS2021_00155', 'BraTS2021_00156', 'BraTS2021_00157', 'BraTS2021_00158', 'BraTS2021_00159', 'BraTS2021_00160', 'BraTS2021_00162', 'BraTS2021_00165', 'BraTS2021_00166', 'BraTS2021_00167', 'BraTS2021_00170', 'BraTS2021_00171', 'BraTS2021_00172', 'BraTS2021_00176', 'BraTS2021_00177', 'BraTS2021_00178', 'BraTS2021_00183', 'BraTS2021_00184', 'BraTS2021_00185', 'BraTS2021_00186', 'BraTS2021_00187', 'BraTS2021_00188', 'BraTS2021_00191', 'BraTS2021_00192', 'BraTS2021_00193', 'BraTS2021_00194', 'BraTS2021_00195', 'BraTS2021_00196', 'BraTS2021_00199', 'BraTS2021_00201', 'BraTS2021_00203', 'BraTS2021_00204', 'BraTS2021_00206', 'BraTS2021_00207', 'BraTS2021_00209', 'BraTS2021_00210', 'BraTS2021_00211', 'BraTS2021_00212', 'BraTS2021_00214', 'BraTS2021_00216', 'BraTS2021_00217', 'BraTS2021_00218', 'BraTS2021_00219', 'BraTS2021_00220', 'BraTS2021_00221', 'BraTS2021_00222', 'BraTS2021_00227', 'BraTS2021_00228', 'BraTS2021_00230', 'BraTS2021_00231', 'BraTS2021_00233', 'BraTS2021_00234', 'BraTS2021_00235', 'BraTS2021_00236', 'BraTS2021_00237', 'BraTS2021_00238', 'BraTS2021_00239', 'BraTS2021_00240', 'BraTS2021_00241', 'BraTS2021_00242', 'BraTS2021_00243', 'BraTS2021_00246', 'BraTS2021_00247', 'BraTS2021_00249', 'BraTS2021_00250', 'BraTS2021_00251', 'BraTS2021_00253', 'BraTS2021_00254', 'BraTS2021_00258', 'BraTS2021_00259', 'BraTS2021_00260', 'BraTS2021_00261', 'BraTS2021_00262', 'BraTS2021_00263', 'BraTS2021_00266', 'BraTS2021_00267', 'BraTS2021_00269', 'BraTS2021_00270', 'BraTS2021_00271', 'BraTS2021_00273', 'BraTS2021_00274', 'BraTS2021_00275', 'BraTS2021_00280', 'BraTS2021_00281', 'BraTS2021_00282', 'BraTS2021_00283', 'BraTS2021_00284', 'BraTS2021_00285', 'BraTS2021_00286', 'BraTS2021_00288', 'BraTS2021_00289', 'BraTS2021_00290', 'BraTS2021_00291', 'BraTS2021_00292', 'BraTS2021_00293', 'BraTS2021_00294', 'BraTS2021_00296', 'BraTS2021_00297', 'BraTS2021_00298', 'BraTS2021_00299', 'BraTS2021_00300', 'BraTS2021_00301', 'BraTS2021_00303', 'BraTS2021_00304', 'BraTS2021_00305', 'BraTS2021_00306', 'BraTS2021_00309', 'BraTS2021_00310', 'BraTS2021_00311', 'BraTS2021_00312', 'BraTS2021_00313', 'BraTS2021_00314', 'BraTS2021_00316', 'BraTS2021_00317', 'BraTS2021_00318', 'BraTS2021_00320', 'BraTS2021_00321', 'BraTS2021_00322', 'BraTS2021_00324', 'BraTS2021_00325', 'BraTS2021_00327', 'BraTS2021_00328', 'BraTS2021_00329', 'BraTS2021_00331', 'BraTS2021_00332', 'BraTS2021_00334', 'BraTS2021_00336', 'BraTS2021_00338', 'BraTS2021_00339', 'BraTS2021_00340', 'BraTS2021_00341', 'BraTS2021_00343', 'BraTS2021_00344', 'BraTS2021_00346', 'BraTS2021_00347', 'BraTS2021_00348', 'BraTS2021_00349', 'BraTS2021_00350', 'BraTS2021_00351', 'BraTS2021_00352', 'BraTS2021_00353', 'BraTS2021_00356', 'BraTS2021_00359', 'BraTS2021_00360', 'BraTS2021_00364', 'BraTS2021_00366', 'BraTS2021_00367', 'BraTS2021_00369', 'BraTS2021_00370', 'BraTS2021_00371', 'BraTS2021_00373', 'BraTS2021_00375', 'BraTS2021_00376', 'BraTS2021_00377', 'BraTS2021_00378', 'BraTS2021_00379', 'BraTS2021_00380', 'BraTS2021_00382', 'BraTS2021_00383', 'BraTS2021_00386', 'BraTS2021_00387', 'BraTS2021_00388', 'BraTS2021_00389', 'BraTS2021_00390', 'BraTS2021_00391', 'BraTS2021_00392', 'BraTS2021_00395', 'BraTS2021_00397', 'BraTS2021_00399', 'BraTS2021_00400', 'BraTS2021_00401', 'BraTS2021_00402', 'BraTS2021_00403', 'BraTS2021_00404', 'BraTS2021_00405', 'BraTS2021_00406', 'BraTS2021_00407', 'BraTS2021_00409', 'BraTS2021_00410', 'BraTS2021_00412', 'BraTS2021_00413', 'BraTS2021_00414', 'BraTS2021_00416', 'BraTS2021_00417', 'BraTS2021_00418', 'BraTS2021_00419', 'BraTS2021_00421', 'BraTS2021_00423', 'BraTS2021_00425', 'BraTS2021_00426', 'BraTS2021_00429', 'BraTS2021_00430', 'BraTS2021_00431', 'BraTS2021_00432', 'BraTS2021_00433', 'BraTS2021_00436', 'BraTS2021_00440', 'BraTS2021_00441', 'BraTS2021_00442', 'BraTS2021_00443', 'BraTS2021_00444', 'BraTS2021_00445', 'BraTS2021_00446', 'BraTS2021_00448', 'BraTS2021_00449', 'BraTS2021_00451', 'BraTS2021_00452', 'BraTS2021_00453', 'BraTS2021_00454', 'BraTS2021_00455', 'BraTS2021_00456', 'BraTS2021_00457', 'BraTS2021_00459', 'BraTS2021_00464', 'BraTS2021_00466', 'BraTS2021_00468', 'BraTS2021_00469', 'BraTS2021_00470', 'BraTS2021_00472', 'BraTS2021_00477', 'BraTS2021_00478', 'BraTS2021_00479', 'BraTS2021_00480', 'BraTS2021_00481', 'BraTS2021_00483', 'BraTS2021_00485', 'BraTS2021_00488', 'BraTS2021_00491', 'BraTS2021_00493', 'BraTS2021_00494', 'BraTS2021_00495', 'BraTS2021_00496', 'BraTS2021_00498', 'BraTS2021_00499', 'BraTS2021_00500', 'BraTS2021_00501', 'BraTS2021_00502', 'BraTS2021_00504', 'BraTS2021_00505', 'BraTS2021_00506', 'BraTS2021_00507', 'BraTS2021_00510', 'BraTS2021_00511', 'BraTS2021_00512', 'BraTS2021_00513', 'BraTS2021_00514', 'BraTS2021_00516', 'BraTS2021_00517', 'BraTS2021_00518', 'BraTS2021_00519', 'BraTS2021_00520', 'BraTS2021_00523', 'BraTS2021_00524', 'BraTS2021_00525', 'BraTS2021_00526', 'BraTS2021_00528', 'BraTS2021_00529', 'BraTS2021_00530', 'BraTS2021_00532', 'BraTS2021_00533', 'BraTS2021_00537', 'BraTS2021_00538', 'BraTS2021_00539', 'BraTS2021_00540', 'BraTS2021_00542', 'BraTS2021_00543', 'BraTS2021_00544', 'BraTS2021_00545', 'BraTS2021_00547', 'BraTS2021_00548', 'BraTS2021_00549', 'BraTS2021_00550', 'BraTS2021_00551', 'BraTS2021_00552', 'BraTS2021_00554', 'BraTS2021_00555', 'BraTS2021_00556', 'BraTS2021_00557', 'BraTS2021_00558', 'BraTS2021_00559', 'BraTS2021_00561', 'BraTS2021_00563', 'BraTS2021_00565', 'BraTS2021_00567', 'BraTS2021_00568', 'BraTS2021_00569', 'BraTS2021_00570', 'BraTS2021_00571', 'BraTS2021_00572', 'BraTS2021_00574', 'BraTS2021_00575', 'BraTS2021_00576', 'BraTS2021_00577', 'BraTS2021_00578', 'BraTS2021_00579', 'BraTS2021_00580', 'BraTS2021_00581', 'BraTS2021_00582', 'BraTS2021_00583', 'BraTS2021_00584', 'BraTS2021_00586', 'BraTS2021_00587', 'BraTS2021_00588', 'BraTS2021_00589', 'BraTS2021_00590', 'BraTS2021_00591', 'BraTS2021_00593', 'BraTS2021_00594', 'BraTS2021_00596', 'BraTS2021_00597', 'BraTS2021_00598', 'BraTS2021_00599', 'BraTS2021_00601', 'BraTS2021_00602', 'BraTS2021_00604', 'BraTS2021_00605', 'BraTS2021_00606', 'BraTS2021_00607', 'BraTS2021_00608', 'BraTS2021_00610', 'BraTS2021_00611', 'BraTS2021_00612', 'BraTS2021_00613', 'BraTS2021_00615', 'BraTS2021_00616', 'BraTS2021_00618', 'BraTS2021_00619', 'BraTS2021_00620', 'BraTS2021_00621', 'BraTS2021_00622', 'BraTS2021_00623', 'BraTS2021_00624', 'BraTS2021_00625', 'BraTS2021_00626', 'BraTS2021_00628', 'BraTS2021_00630', 'BraTS2021_00631', 'BraTS2021_00636', 'BraTS2021_00638', 'BraTS2021_00639', 'BraTS2021_00640', 'BraTS2021_00641', 'BraTS2021_00642', 'BraTS2021_00645', 'BraTS2021_00646', 'BraTS2021_00649', 'BraTS2021_00650', 'BraTS2021_00651', 'BraTS2021_00652', 'BraTS2021_00654', 'BraTS2021_00655', 'BraTS2021_00656', 'BraTS2021_00657', 'BraTS2021_00658', 'BraTS2021_00659', 'BraTS2021_00661', 'BraTS2021_00663', 'BraTS2021_00667', 'BraTS2021_00668', 'BraTS2021_00674', 'BraTS2021_00675', 'BraTS2021_00676', 'BraTS2021_00677', 'BraTS2021_00679', 'BraTS2021_00680', 'BraTS2021_00682', 'BraTS2021_00683', 'BraTS2021_00684', 'BraTS2021_00685', 'BraTS2021_00686', 'BraTS2021_00687', 'BraTS2021_00688', 'BraTS2021_00689', 'BraTS2021_00690', 'BraTS2021_00691', 'BraTS2021_00692', 'BraTS2021_00693', 'BraTS2021_00694', 'BraTS2021_00697', 'BraTS2021_00698', 'BraTS2021_00703', 'BraTS2021_00704', 'BraTS2021_00705', 'BraTS2021_00706', 'BraTS2021_00707', 'BraTS2021_00708', 'BraTS2021_00709', 'BraTS2021_00714', 'BraTS2021_00715', 'BraTS2021_00716', 'BraTS2021_00718', 'BraTS2021_00723', 'BraTS2021_00724', 'BraTS2021_00725', 'BraTS2021_00727', 'BraTS2021_00728', 'BraTS2021_00729', 'BraTS2021_00730', 'BraTS2021_00731', 'BraTS2021_00732', 'BraTS2021_00733', 'BraTS2021_00734', 'BraTS2021_00735', 'BraTS2021_00736', 'BraTS2021_00737', 'BraTS2021_00739', 'BraTS2021_00740', 'BraTS2021_00742', 'BraTS2021_00744', 'BraTS2021_00746', 'BraTS2021_00747', 'BraTS2021_00750', 'BraTS2021_00751', 'BraTS2021_00753', 'BraTS2021_00756', 'BraTS2021_00757', 'BraTS2021_00758', 'BraTS2021_00759', 'BraTS2021_00760', 'BraTS2021_00764', 'BraTS2021_00765', 'BraTS2021_00767', 'BraTS2021_00768', 'BraTS2021_00772', 'BraTS2021_00773', 'BraTS2021_00774', 'BraTS2021_00775', 'BraTS2021_00777', 'BraTS2021_00778', 'BraTS2021_00780', 'BraTS2021_00781', 'BraTS2021_00782', 'BraTS2021_00784', 'BraTS2021_00787', 'BraTS2021_00788', 'BraTS2021_00789', 'BraTS2021_00791', 'BraTS2021_00792', 'BraTS2021_00793', 'BraTS2021_00795', 'BraTS2021_00796', 'BraTS2021_00797', 'BraTS2021_00799', 'BraTS2021_00800', 'BraTS2021_00801', 'BraTS2021_00802', 'BraTS2021_00803', 'BraTS2021_00804', 'BraTS2021_00805', 'BraTS2021_00806', 'BraTS2021_00807', 'BraTS2021_00808', 'BraTS2021_00809', 'BraTS2021_00810', 'BraTS2021_00811', 'BraTS2021_00814', 'BraTS2021_00816', 'BraTS2021_00818', 'BraTS2021_00819', 'BraTS2021_00820', 'BraTS2021_00823', 'BraTS2021_00824', 'BraTS2021_00828', 'BraTS2021_00830', 'BraTS2021_00831', 'BraTS2021_00834', 'BraTS2021_00836', 'BraTS2021_00837', 'BraTS2021_00838', 'BraTS2021_00839', 'BraTS2021_00840', 'BraTS2021_00999', 'BraTS2021_01000', 'BraTS2021_01001', 'BraTS2021_01002', 'BraTS2021_01003', 'BraTS2021_01004', 'BraTS2021_01005', 'BraTS2021_01007', 'BraTS2021_01008', 'BraTS2021_01009', 'BraTS2021_01010', 'BraTS2021_01011', 'BraTS2021_01012', 'BraTS2021_01013', 'BraTS2021_01014', 'BraTS2021_01015', 'BraTS2021_01016', 'BraTS2021_01017', 'BraTS2021_01018', 'BraTS2021_01019', 'BraTS2021_01020', 'BraTS2021_01021', 'BraTS2021_01022', 'BraTS2021_01023', 'BraTS2021_01024', 'BraTS2021_01025', 'BraTS2021_01026', 'BraTS2021_01027', 'BraTS2021_01028', 'BraTS2021_01029', 'BraTS2021_01030', 'BraTS2021_01031', 'BraTS2021_01032', 'BraTS2021_01033', 'BraTS2021_01034', 'BraTS2021_01035', 'BraTS2021_01036', 'BraTS2021_01037', 'BraTS2021_01038', 'BraTS2021_01039', 'BraTS2021_01040', 'BraTS2021_01041', 'BraTS2021_01042', 'BraTS2021_01043', 'BraTS2021_01044', 'BraTS2021_01045', 'BraTS2021_01046', 'BraTS2021_01047', 'BraTS2021_01048', 'BraTS2021_01049', 'BraTS2021_01050', 'BraTS2021_01051', 'BraTS2021_01052', 'BraTS2021_01053', 'BraTS2021_01054', 'BraTS2021_01055', 'BraTS2021_01056', 'BraTS2021_01057', 'BraTS2021_01058', 'BraTS2021_01059', 'BraTS2021_01060', 'BraTS2021_01061', 'BraTS2021_01062', 'BraTS2021_01063', 'BraTS2021_01064', 'BraTS2021_01065', 'BraTS2021_01066', 'BraTS2021_01067', 'BraTS2021_01068', 'BraTS2021_01069', 'BraTS2021_01070', 'BraTS2021_01071', 'BraTS2021_01072', 'BraTS2021_01073', 'BraTS2021_01074', 'BraTS2021_01075', 'BraTS2021_01076', 'BraTS2021_01077', 'BraTS2021_01078', 'BraTS2021_01079', 'BraTS2021_01080', 'BraTS2021_01081', 'BraTS2021_01082', 'BraTS2021_01083', 'BraTS2021_01084', 'BraTS2021_01085', 'BraTS2021_01086', 'BraTS2021_01087', 'BraTS2021_01088', 'BraTS2021_01089', 'BraTS2021_01090', 'BraTS2021_01091', 'BraTS2021_01092', 'BraTS2021_01093', 'BraTS2021_01094', 'BraTS2021_01095', 'BraTS2021_01096', 'BraTS2021_01097', 'BraTS2021_01098', 'BraTS2021_01099', 'BraTS2021_01100', 'BraTS2021_01101', 'BraTS2021_01102', 'BraTS2021_01103', 'BraTS2021_01104', 'BraTS2021_01105', 'BraTS2021_01106', 'BraTS2021_01107', 'BraTS2021_01108', 'BraTS2021_01109', 'BraTS2021_01110', 'BraTS2021_01111', 'BraTS2021_01112', 'BraTS2021_01113', 'BraTS2021_01114', 'BraTS2021_01115', 'BraTS2021_01116', 'BraTS2021_01117', 'BraTS2021_01118', 'BraTS2021_01119', 'BraTS2021_01120', 'BraTS2021_01121', 'BraTS2021_01122', 'BraTS2021_01123', 'BraTS2021_01124', 'BraTS2021_01125', 'BraTS2021_01126', 'BraTS2021_01127', 'BraTS2021_01128', 'BraTS2021_01129', 'BraTS2021_01130', 'BraTS2021_01131', 'BraTS2021_01132', 'BraTS2021_01133', 'BraTS2021_01134', 'BraTS2021_01135', 'BraTS2021_01136', 'BraTS2021_01137', 'BraTS2021_01138', 'BraTS2021_01139', 'BraTS2021_01140', 'BraTS2021_01141', 'BraTS2021_01142', 'BraTS2021_01143', 'BraTS2021_01144', 'BraTS2021_01145', 'BraTS2021_01146', 'BraTS2021_01147', 'BraTS2021_01148', 'BraTS2021_01149', 'BraTS2021_01150', 'BraTS2021_01151', 'BraTS2021_01152', 'BraTS2021_01153', 'BraTS2021_01154', 'BraTS2021_01155', 'BraTS2021_01156', 'BraTS2021_01157', 'BraTS2021_01158', 'BraTS2021_01159', 'BraTS2021_01160', 'BraTS2021_01161', 'BraTS2021_01162', 'BraTS2021_01163', 'BraTS2021_01164', 'BraTS2021_01165', 'BraTS2021_01166', 'BraTS2021_01167', 'BraTS2021_01168', 'BraTS2021_01169', 'BraTS2021_01170', 'BraTS2021_01171', 'BraTS2021_01172', 'BraTS2021_01173', 'BraTS2021_01174', 'BraTS2021_01175', 'BraTS2021_01176', 'BraTS2021_01177', 'BraTS2021_01178', 'BraTS2021_01179', 'BraTS2021_01180', 'BraTS2021_01181', 'BraTS2021_01182', 'BraTS2021_01183', 'BraTS2021_01184', 'BraTS2021_01185', 'BraTS2021_01186', 'BraTS2021_01187', 'BraTS2021_01188', 'BraTS2021_01189', 'BraTS2021_01190', 'BraTS2021_01191', 'BraTS2021_01192', 'BraTS2021_01193', 'BraTS2021_01194', 'BraTS2021_01195', 'BraTS2021_01196', 'BraTS2021_01197', 'BraTS2021_01198', 'BraTS2021_01199', 'BraTS2021_01200', 'BraTS2021_01201', 'BraTS2021_01202', 'BraTS2021_01203', 'BraTS2021_01204', 'BraTS2021_01205', 'BraTS2021_01206', 'BraTS2021_01207', 'BraTS2021_01208', 'BraTS2021_01209', 'BraTS2021_01210', 'BraTS2021_01211', 'BraTS2021_01212', 'BraTS2021_01213', 'BraTS2021_01214', 'BraTS2021_01215', 'BraTS2021_01216', 'BraTS2021_01217', 'BraTS2021_01218', 'BraTS2021_01219', 'BraTS2021_01220', 'BraTS2021_01221', 'BraTS2021_01222', 'BraTS2021_01223', 'BraTS2021_01224', 'BraTS2021_01225', 'BraTS2021_01226', 'BraTS2021_01227', 'BraTS2021_01228', 'BraTS2021_01229', 'BraTS2021_01230', 'BraTS2021_01231', 'BraTS2021_01232', 'BraTS2021_01233', 'BraTS2021_01234', 'BraTS2021_01235', 'BraTS2021_01236', 'BraTS2021_01237', 'BraTS2021_01238', 'BraTS2021_01239', 'BraTS2021_01240', 'BraTS2021_01241', 'BraTS2021_01242', 'BraTS2021_01243', 'BraTS2021_01244', 'BraTS2021_01245', 'BraTS2021_01246', 'BraTS2021_01247', 'BraTS2021_01248', 'BraTS2021_01249', 'BraTS2021_01250', 'BraTS2021_01251', 'BraTS2021_01252', 'BraTS2021_01253', 'BraTS2021_01254', 'BraTS2021_01255', 'BraTS2021_01256', 'BraTS2021_01257', 'BraTS2021_01258', 'BraTS2021_01259', 'BraTS2021_01260', 'BraTS2021_01261', 'BraTS2021_01262', 'BraTS2021_01263', 'BraTS2021_01264', 'BraTS2021_01265', 'BraTS2021_01266', 'BraTS2021_01267', 'BraTS2021_01268', 'BraTS2021_01269', 'BraTS2021_01270', 'BraTS2021_01271', 'BraTS2021_01272', 'BraTS2021_01273', 'BraTS2021_01274', 'BraTS2021_01275', 'BraTS2021_01276', 'BraTS2021_01277', 'BraTS2021_01278', 'BraTS2021_01279', 'BraTS2021_01280', 'BraTS2021_01281', 'BraTS2021_01282', 'BraTS2021_01283', 'BraTS2021_01284', 'BraTS2021_01285', 'BraTS2021_01286', 'BraTS2021_01287', 'BraTS2021_01288', 'BraTS2021_01289', 'BraTS2021_01290', 'BraTS2021_01291', 'BraTS2021_01292', 'BraTS2021_01293', 'BraTS2021_01294', 'BraTS2021_01295', 'BraTS2021_01296', 'BraTS2021_01297', 'BraTS2021_01298', 'BraTS2021_01299', 'BraTS2021_01300', 'BraTS2021_01301', 'BraTS2021_01302', 'BraTS2021_01303', 'BraTS2021_01304', 'BraTS2021_01305', 'BraTS2021_01306', 'BraTS2021_01307', 'BraTS2021_01308', 'BraTS2021_01309', 'BraTS2021_01310', 'BraTS2021_01311', 'BraTS2021_01312', 'BraTS2021_01313', 'BraTS2021_01314', 'BraTS2021_01315', 'BraTS2021_01316', 'BraTS2021_01317', 'BraTS2021_01318', 'BraTS2021_01319', 'BraTS2021_01320', 'BraTS2021_01321', 'BraTS2021_01322', 'BraTS2021_01323', 'BraTS2021_01324', 'BraTS2021_01325', 'BraTS2021_01326', 'BraTS2021_01327', 'BraTS2021_01328', 'BraTS2021_01329', 'BraTS2021_01330', 'BraTS2021_01331', 'BraTS2021_01332', 'BraTS2021_01333', 'BraTS2021_01334', 'BraTS2021_01335', 'BraTS2021_01336', 'BraTS2021_01337', 'BraTS2021_01338', 'BraTS2021_01339', 'BraTS2021_01340', 'BraTS2021_01341', 'BraTS2021_01342', 'BraTS2021_01343', 'BraTS2021_01344', 'BraTS2021_01345', 'BraTS2021_01346', 'BraTS2021_01347', 'BraTS2021_01348', 'BraTS2021_01349', 'BraTS2021_01350', 'BraTS2021_01351', 'BraTS2021_01352', 'BraTS2021_01353', 'BraTS2021_01354', 'BraTS2021_01355', 'BraTS2021_01356', 'BraTS2021_01357', 'BraTS2021_01358', 'BraTS2021_01359', 'BraTS2021_01360', 'BraTS2021_01361', 'BraTS2021_01362', 'BraTS2021_01363', 'BraTS2021_01364', 'BraTS2021_01365', 'BraTS2021_01366', 'BraTS2021_01367', 'BraTS2021_01368', 'BraTS2021_01369', 'BraTS2021_01370', 'BraTS2021_01371', 'BraTS2021_01372', 'BraTS2021_01373', 'BraTS2021_01374', 'BraTS2021_01375', 'BraTS2021_01376', 'BraTS2021_01377', 'BraTS2021_01378', 'BraTS2021_01379', 'BraTS2021_01380', 'BraTS2021_01381', 'BraTS2021_01382', 'BraTS2021_01383', 'BraTS2021_01384', 'BraTS2021_01385', 'BraTS2021_01386', 'BraTS2021_01387', 'BraTS2021_01388', 'BraTS2021_01389', 'BraTS2021_01390', 'BraTS2021_01391', 'BraTS2021_01392', 'BraTS2021_01393', 'BraTS2021_01394', 'BraTS2021_01395', 'BraTS2021_01396', 'BraTS2021_01397', 'BraTS2021_01398', 'BraTS2021_01399', 'BraTS2021_01400', 'BraTS2021_01401', 'BraTS2021_01402', 'BraTS2021_01403', 'BraTS2021_01404', 'BraTS2021_01405', 'BraTS2021_01406', 'BraTS2021_01407', 'BraTS2021_01408', 'BraTS2021_01409', 'BraTS2021_01410', 'BraTS2021_01411', 'BraTS2021_01412', 'BraTS2021_01413', 'BraTS2021_01414', 'BraTS2021_01415', 'BraTS2021_01416', 'BraTS2021_01417', 'BraTS2021_01418', 'BraTS2021_01419', 'BraTS2021_01420', 'BraTS2021_01421', 'BraTS2021_01422', 'BraTS2021_01423', 'BraTS2021_01424', 'BraTS2021_01425', 'BraTS2021_01426', 'BraTS2021_01427', 'BraTS2021_01428', 'BraTS2021_01429', 'BraTS2021_01430', 'BraTS2021_01431', 'BraTS2021_01432', 'BraTS2021_01433', 'BraTS2021_01434', 'BraTS2021_01435', 'BraTS2021_01436', 'BraTS2021_01437', 'BraTS2021_01438', 'BraTS2021_01439', 'BraTS2021_01440', 'BraTS2021_01441', 'BraTS2021_01442', 'BraTS2021_01443', 'BraTS2021_01444', 'BraTS2021_01445', 'BraTS2021_01446', 'BraTS2021_01447', 'BraTS2021_01448', 'BraTS2021_01449', 'BraTS2021_01450', 'BraTS2021_01451', 'BraTS2021_01452', 'BraTS2021_01453', 'BraTS2021_01454', 'BraTS2021_01455', 'BraTS2021_01456', 'BraTS2021_01457', 'BraTS2021_01458', 'BraTS2021_01459', 'BraTS2021_01460', 'BraTS2021_01461', 'BraTS2021_01462', 'BraTS2021_01463', 'BraTS2021_01464', 'BraTS2021_01465', 'BraTS2021_01466', 'BraTS2021_01467', 'BraTS2021_01468', 'BraTS2021_01469', 'BraTS2021_01470', 'BraTS2021_01471', 'BraTS2021_01472', 'BraTS2021_01473', 'BraTS2021_01474', 'BraTS2021_01475', 'BraTS2021_01476', 'BraTS2021_01477', 'BraTS2021_01478', 'BraTS2021_01479', 'BraTS2021_01480', 'BraTS2021_01481', 'BraTS2021_01482', 'BraTS2021_01483', 'BraTS2021_01484', 'BraTS2021_01485', 'BraTS2021_01486', 'BraTS2021_01487', 'BraTS2021_01488', 'BraTS2021_01489', 'BraTS2021_01490', 'BraTS2021_01491', 'BraTS2021_01492', 'BraTS2021_01493', 'BraTS2021_01494', 'BraTS2021_01495', 'BraTS2021_01496', 'BraTS2021_01497', 'BraTS2021_01498', 'BraTS2021_01499', 'BraTS2021_01500', 'BraTS2021_01501', 'BraTS2021_01502', 'BraTS2021_01503', 'BraTS2021_01504', 'BraTS2021_01505', 'BraTS2021_01506', 'BraTS2021_01507', 'BraTS2021_01508', 'BraTS2021_01509', 'BraTS2021_01510', 'BraTS2021_01511', 'BraTS2021_01512', 'BraTS2021_01513', 'BraTS2021_01514', 'BraTS2021_01515', 'BraTS2021_01516', 'BraTS2021_01517', 'BraTS2021_01518', 'BraTS2021_01519', 'BraTS2021_01520', 'BraTS2021_01521', 'BraTS2021_01522', 'BraTS2021_01523', 'BraTS2021_01524', 'BraTS2021_01525', 'BraTS2021_01526', 'BraTS2021_01527', 'BraTS2021_01528', 'BraTS2021_01529', 'BraTS2021_01530', 'BraTS2021_01531', 'BraTS2021_01532', 'BraTS2021_01533', 'BraTS2021_01534', 'BraTS2021_01535', 'BraTS2021_01536', 'BraTS2021_01537', 'BraTS2021_01538', 'BraTS2021_01539', 'BraTS2021_01540', 'BraTS2021_01541', 'BraTS2021_01542', 'BraTS2021_01543', 'BraTS2021_01544', 'BraTS2021_01545', 'BraTS2021_01546', 'BraTS2021_01547', 'BraTS2021_01548', 'BraTS2021_01549', 'BraTS2021_01550', 'BraTS2021_01551', 'BraTS2021_01552', 'BraTS2021_01553', 'BraTS2021_01554', 'BraTS2021_01555', 'BraTS2021_01556', 'BraTS2021_01557', 'BraTS2021_01558', 'BraTS2021_01559', 'BraTS2021_01560', 'BraTS2021_01561', 'BraTS2021_01562', 'BraTS2021_01563', 'BraTS2021_01564', 'BraTS2021_01565', 'BraTS2021_01566', 'BraTS2021_01567', 'BraTS2021_01568', 'BraTS2021_01569', 'BraTS2021_01570', 'BraTS2021_01571', 'BraTS2021_01572', 'BraTS2021_01573', 'BraTS2021_01574', 'BraTS2021_01575', 'BraTS2021_01576', 'BraTS2021_01577', 'BraTS2021_01578', 'BraTS2021_01579', 'BraTS2021_01580', 'BraTS2021_01581', 'BraTS2021_01582', 'BraTS2021_01583', 'BraTS2021_01584', 'BraTS2021_01585', 'BraTS2021_01586', 'BraTS2021_01587', 'BraTS2021_01588', 'BraTS2021_01589', 'BraTS2021_01590', 'BraTS2021_01591', 'BraTS2021_01592', 'BraTS2021_01593', 'BraTS2021_01594', 'BraTS2021_01595', 'BraTS2021_01596', 'BraTS2021_01597', 'BraTS2021_01598', 'BraTS2021_01599', 'BraTS2021_01600', 'BraTS2021_01601', 'BraTS2021_01602', 'BraTS2021_01603', 'BraTS2021_01604', 'BraTS2021_01605', 'BraTS2021_01606', 'BraTS2021_01607', 'BraTS2021_01608', 'BraTS2021_01609', 'BraTS2021_01610', 'BraTS2021_01611', 'BraTS2021_01612', 'BraTS2021_01613', 'BraTS2021_01614', 'BraTS2021_01615', 'BraTS2021_01616', 'BraTS2021_01617', 'BraTS2021_01618', 'BraTS2021_01619', 'BraTS2021_01620', 'BraTS2021_01621', 'BraTS2021_01622', 'BraTS2021_01623', 'BraTS2021_01624', 'BraTS2021_01625', 'BraTS2021_01626', 'BraTS2021_01627', 'BraTS2021_01628', 'BraTS2021_01629', 'BraTS2021_01630', 'BraTS2021_01631', 'BraTS2021_01632', 'BraTS2021_01633', 'BraTS2021_01634', 'BraTS2021_01635', 'BraTS2021_01636', 'BraTS2021_01637', 'BraTS2021_01638', 'BraTS2021_01639', 'BraTS2021_01640', 'BraTS2021_01641', 'BraTS2021_01642', 'BraTS2021_01643', 'BraTS2021_01644', 'BraTS2021_01645', 'BraTS2021_01646', 'BraTS2021_01647', 'BraTS2021_01648', 'BraTS2021_01649', 'BraTS2021_01650', 'BraTS2021_01651', 'BraTS2021_01652', 'BraTS2021_01653', 'BraTS2021_01654', 'BraTS2021_01655', 'BraTS2021_01656', 'BraTS2021_01657', 'BraTS2021_01658', 'BraTS2021_01659', 'BraTS2021_01660', 'BraTS2021_01661', 'BraTS2021_01662', 'BraTS2021_01663', 'BraTS2021_01664', 'BraTS2021_01665', 'BraTS2021_01666']\n"
     ]
    }
   ]
  },
  {
   "cell_type": "code",
   "source": [
    "split_dict = {'train': 938, 'val': 62, 'test': 251}\n",
    "import random\n",
    "dir_train = sorted(random.sample(dir_list, split_dict['train']))\n",
    "dir_val = sorted(random.sample([elem for elem in dir_list if elem not in dir_train], split_dict['val']))\n",
    "dir_test = sorted([elem for elem in dir_list if (elem not in dir_train and elem not in dir_val)])"
   ],
   "metadata": {
    "id": "caJcRzm3UxJn"
   },
   "execution_count": null,
   "outputs": []
  },
  {
   "cell_type": "code",
   "source": [
    "print(len(dir_train))"
   ],
   "metadata": {
    "colab": {
     "base_uri": "https://localhost:8080/"
    },
    "id": "xs5beyQMVpsj",
    "executionInfo": {
     "status": "ok",
     "timestamp": 1685984642423,
     "user_tz": 240,
     "elapsed": 636,
     "user": {
      "displayName": "yumeng zhang",
      "userId": "05463727220540588674"
     }
    },
    "outputId": "20ee3fe5-5cd4-4ee5-9c31-9254d34c5267"
   },
   "execution_count": null,
   "outputs": [
    {
     "output_type": "stream",
     "name": "stdout",
     "text": [
      "938\n"
     ]
    }
   ]
  },
  {
   "cell_type": "code",
   "source": [
    "def normalize_image(image):\n",
    "\n",
    "    temp_dict = {'image': image}\n",
    "\n",
    "    transform = transforms.ScaleIntensityRangePercentilesd(\n",
    "        keys=\"image\",\n",
    "        lower=0.0,\n",
    "        upper=100.0,\n",
    "        b_min=0.0,\n",
    "        b_max=1.0\n",
    "    )\n",
    "\n",
    "    return transform(temp_dict)['image']"
   ],
   "metadata": {
    "id": "s3Tp5QFP_sFP"
   },
   "execution_count": null,
   "outputs": []
  },
  {
   "cell_type": "code",
   "source": [
    "def preprocess_batch(start, end, batch_idx, mode):\n",
    "\n",
    "    data_dict = {\n",
    "        \"image\": [],\n",
    "        \"label\": [],\n",
    "        \"weak_label\": [],\n",
    "    }\n",
    "\n",
    "    # count = 0\n",
    "\n",
    "    patient_list = []\n",
    "\n",
    "    if mode == 'train':\n",
    "        patient_list = dir_train\n",
    "    elif mode == 'val':\n",
    "        patient_list = dir_val\n",
    "    elif mode == 'test':\n",
    "        patient_list = dir_test\n",
    "\n",
    "    for dir in tqdm(patient_list[start:end]):\n",
    "        # if count == 10:\n",
    "        #     break\n",
    "        t1_image_path = os.path.join(root_dir, dir, dir + '_t1.nii.gz')\n",
    "        t1ce_image_path = os.path.join(root_dir, dir, dir + '_t1ce.nii.gz')\n",
    "        t2_image_path = os.path.join(root_dir, dir, dir + '_t2.nii.gz')\n",
    "        flair_image_path = os.path.join(root_dir, dir, dir + '_flair.nii.gz')\n",
    "        seg_path = os.path.join(root_dir, dir, dir + '_seg.nii.gz')\n",
    "\n",
    "        t1 = nibabel.load(t1_image_path)\n",
    "        t1 = t1.get_fdata()\n",
    "        t1 = normalize_image(t1[:, :, 46: 96])\n",
    "\n",
    "        t1ce = nibabel.load(t1ce_image_path)\n",
    "        t1ce = t1ce.get_fdata()\n",
    "        t1ce = normalize_image(t1ce[:, :, 46: 96])\n",
    "\n",
    "        t2 = nibabel.load(t2_image_path)\n",
    "        t2 = t2.get_fdata()\n",
    "        t2 = normalize_image(t2[:, :, 46: 96])\n",
    "\n",
    "        flair = nibabel.load(flair_image_path)\n",
    "        flair = flair.get_fdata()\n",
    "        flair = normalize_image(flair[:, :, 46: 96])\n",
    "\n",
    "        label = nibabel.load(seg_path)\n",
    "        label = label.get_fdata()[:, :, 46: 96]\n",
    "\n",
    "        image = np.stack((t1, t1ce, t2, flair))\n",
    "\n",
    "        for i in range(50):\n",
    "            image_padded = np.zeros((4, 256, 256))\n",
    "            label_padded = np.zeros((256, 256))\n",
    "            image_padded[:, 8:-8, 8:-8] = image[:, :, :, i]\n",
    "            label_padded[8:-8, 8:-8] = label[:, :, i]\n",
    "\n",
    "            data_dict[\"image\"].append(image_padded)\n",
    "            data_dict[\"label\"].append(label_padded)\n",
    "\n",
    "            weak_label = 1 if np.max(label_padded) > 0 else 0\n",
    "            data_dict[\"weak_label\"].append(weak_label)\n",
    "\n",
    "        # count += 1\n",
    "        del t1, t1ce, t2, flair, label\n",
    "        gc.collect()\n",
    "\n",
    "    images = np.array(data_dict[\"image\"])\n",
    "    labels = np.array(data_dict[\"label\"])\n",
    "    weak_labels = np.array(data_dict[\"weak_label\"])\n",
    "\n",
    "    output_path = os.path.join(target_dir, mode + f\"_batch_{batch_idx}.npz\")\n",
    "    np.savez_compressed(output_path, images=images, labels=labels, weak_labels=weak_labels)\n",
    "\n",
    "    del images, labels, weak_labels, data_dict\n",
    "    gc.collect()"
   ],
   "metadata": {
    "id": "P-If5hZH2qMF"
   },
   "execution_count": null,
   "outputs": []
  },
  {
   "cell_type": "code",
   "source": [
    "batch_size = 100\n",
    "num_batches = len(dir_train) // batch_size\n",
    "\n",
    "for batch_idx in range(num_batches):\n",
    "    start = batch_idx * batch_size\n",
    "    end = start + batch_size\n",
    "    preprocess_batch(start, end, batch_idx)"
   ],
   "metadata": {
    "colab": {
     "base_uri": "https://localhost:8080/"
    },
    "id": "xJslJbTMehUu",
    "executionInfo": {
     "status": "ok",
     "timestamp": 1685994231799,
     "user_tz": 240,
     "elapsed": 8949181,
     "user": {
      "displayName": "yumeng zhang",
      "userId": "05463727220540588674"
     }
    },
    "outputId": "4a188937-989b-42bb-a94b-cd636ddb3954"
   },
   "execution_count": null,
   "outputs": [
    {
     "output_type": "stream",
     "name": "stderr",
     "text": [
      "100%|██████████| 100/100 [12:23<00:00,  7.43s/it]\n",
      "100%|██████████| 100/100 [13:52<00:00,  8.32s/it]\n",
      "100%|██████████| 100/100 [12:40<00:00,  7.61s/it]\n",
      "100%|██████████| 100/100 [13:18<00:00,  7.99s/it]\n",
      "100%|██████████| 100/100 [13:31<00:00,  8.11s/it]\n",
      "100%|██████████| 100/100 [13:15<00:00,  7.95s/it]\n",
      "100%|██████████| 100/100 [13:10<00:00,  7.91s/it]\n",
      "100%|██████████| 100/100 [13:11<00:00,  7.91s/it]\n",
      "100%|██████████| 100/100 [13:34<00:00,  8.15s/it]\n"
     ]
    }
   ]
  },
  {
   "cell_type": "code",
   "source": [
    "split_dict = {'train': 938, 'val': 100, 'test': 200}\n",
    "dir_val = sorted(random.sample([elem for elem in dir_list if elem not in dir_train], split_dict['val']))\n",
    "dir_test = sorted([elem for elem in dir_list if (elem not in dir_train and elem not in dir_val)])"
   ],
   "metadata": {
    "id": "8Ia__W8wOLHz"
   },
   "execution_count": null,
   "outputs": []
  },
  {
   "cell_type": "code",
   "source": [
    "print(dir_val)\n",
    "print(dir_test)\n",
    "print(dir_train)"
   ],
   "metadata": {
    "colab": {
     "base_uri": "https://localhost:8080/"
    },
    "id": "AwyZlAp0PB2K",
    "executionInfo": {
     "status": "ok",
     "timestamp": 1685996737559,
     "user_tz": 240,
     "elapsed": 3,
     "user": {
      "displayName": "yumeng zhang",
      "userId": "05463727220540588674"
     }
    },
    "outputId": "8e95a95b-bc6f-452e-8427-1110b6dea7c8"
   },
   "execution_count": null,
   "outputs": [
    {
     "output_type": "stream",
     "name": "stdout",
     "text": [
      "['BraTS2021_00035', 'BraTS2021_00036', 'BraTS2021_00043', 'BraTS2021_00070', 'BraTS2021_00106', 'BraTS2021_00109', 'BraTS2021_00111', 'BraTS2021_00121', 'BraTS2021_00162', 'BraTS2021_00184', 'BraTS2021_00188', 'BraTS2021_00247', 'BraTS2021_00259', 'BraTS2021_00260', 'BraTS2021_00261', 'BraTS2021_00269', 'BraTS2021_00300', 'BraTS2021_00328', 'BraTS2021_00347', 'BraTS2021_00367', 'BraTS2021_00378', 'BraTS2021_00382', 'BraTS2021_00395', 'BraTS2021_00412', 'BraTS2021_00414', 'BraTS2021_00436', 'BraTS2021_00441', 'BraTS2021_00445', 'BraTS2021_00448', 'BraTS2021_00470', 'BraTS2021_00502', 'BraTS2021_00507', 'BraTS2021_00517', 'BraTS2021_00530', 'BraTS2021_00545', 'BraTS2021_00650', 'BraTS2021_00655', 'BraTS2021_00684', 'BraTS2021_00690', 'BraTS2021_00706', 'BraTS2021_00723', 'BraTS2021_00768', 'BraTS2021_00774', 'BraTS2021_00797', 'BraTS2021_00801', 'BraTS2021_00839', 'BraTS2021_01016', 'BraTS2021_01017', 'BraTS2021_01031', 'BraTS2021_01032', 'BraTS2021_01036', 'BraTS2021_01054', 'BraTS2021_01078', 'BraTS2021_01082', 'BraTS2021_01089', 'BraTS2021_01122', 'BraTS2021_01126', 'BraTS2021_01134', 'BraTS2021_01135', 'BraTS2021_01168', 'BraTS2021_01192', 'BraTS2021_01196', 'BraTS2021_01209', 'BraTS2021_01234', 'BraTS2021_01240', 'BraTS2021_01251', 'BraTS2021_01256', 'BraTS2021_01263', 'BraTS2021_01267', 'BraTS2021_01269', 'BraTS2021_01280', 'BraTS2021_01281', 'BraTS2021_01291', 'BraTS2021_01330', 'BraTS2021_01333', 'BraTS2021_01353', 'BraTS2021_01362', 'BraTS2021_01381', 'BraTS2021_01394', 'BraTS2021_01402', 'BraTS2021_01403', 'BraTS2021_01406', 'BraTS2021_01435', 'BraTS2021_01445', 'BraTS2021_01450', 'BraTS2021_01471', 'BraTS2021_01487', 'BraTS2021_01500', 'BraTS2021_01516', 'BraTS2021_01527', 'BraTS2021_01528', 'BraTS2021_01535', 'BraTS2021_01552', 'BraTS2021_01572', 'BraTS2021_01589', 'BraTS2021_01596', 'BraTS2021_01631', 'BraTS2021_01641', 'BraTS2021_01646', 'BraTS2021_01661']\n",
      "['BraTS2021_00000', 'BraTS2021_00008', 'BraTS2021_00012', 'BraTS2021_00016', 'BraTS2021_00028', 'BraTS2021_00048', 'BraTS2021_00052', 'BraTS2021_00056', 'BraTS2021_00061', 'BraTS2021_00063', 'BraTS2021_00064', 'BraTS2021_00085', 'BraTS2021_00089', 'BraTS2021_00090', 'BraTS2021_00094', 'BraTS2021_00096', 'BraTS2021_00112', 'BraTS2021_00124', 'BraTS2021_00139', 'BraTS2021_00151', 'BraTS2021_00154', 'BraTS2021_00156', 'BraTS2021_00157', 'BraTS2021_00158', 'BraTS2021_00166', 'BraTS2021_00170', 'BraTS2021_00172', 'BraTS2021_00185', 'BraTS2021_00186', 'BraTS2021_00191', 'BraTS2021_00195', 'BraTS2021_00219', 'BraTS2021_00230', 'BraTS2021_00236', 'BraTS2021_00241', 'BraTS2021_00242', 'BraTS2021_00249', 'BraTS2021_00250', 'BraTS2021_00263', 'BraTS2021_00270', 'BraTS2021_00274', 'BraTS2021_00275', 'BraTS2021_00286', 'BraTS2021_00288', 'BraTS2021_00291', 'BraTS2021_00305', 'BraTS2021_00306', 'BraTS2021_00322', 'BraTS2021_00334', 'BraTS2021_00351', 'BraTS2021_00359', 'BraTS2021_00376', 'BraTS2021_00387', 'BraTS2021_00391', 'BraTS2021_00402', 'BraTS2021_00409', 'BraTS2021_00423', 'BraTS2021_00425', 'BraTS2021_00426', 'BraTS2021_00429', 'BraTS2021_00430', 'BraTS2021_00431', 'BraTS2021_00444', 'BraTS2021_00469', 'BraTS2021_00483', 'BraTS2021_00491', 'BraTS2021_00493', 'BraTS2021_00494', 'BraTS2021_00495', 'BraTS2021_00504', 'BraTS2021_00513', 'BraTS2021_00537', 'BraTS2021_00547', 'BraTS2021_00552', 'BraTS2021_00556', 'BraTS2021_00563', 'BraTS2021_00571', 'BraTS2021_00574', 'BraTS2021_00575', 'BraTS2021_00580', 'BraTS2021_00581', 'BraTS2021_00583', 'BraTS2021_00593', 'BraTS2021_00594', 'BraTS2021_00598', 'BraTS2021_00602', 'BraTS2021_00608', 'BraTS2021_00623', 'BraTS2021_00624', 'BraTS2021_00625', 'BraTS2021_00628', 'BraTS2021_00636', 'BraTS2021_00646', 'BraTS2021_00657', 'BraTS2021_00659', 'BraTS2021_00661', 'BraTS2021_00668', 'BraTS2021_00676', 'BraTS2021_00687', 'BraTS2021_00698', 'BraTS2021_00703', 'BraTS2021_00705', 'BraTS2021_00725', 'BraTS2021_00733', 'BraTS2021_00744', 'BraTS2021_00750', 'BraTS2021_00751', 'BraTS2021_00756', 'BraTS2021_00759', 'BraTS2021_00772', 'BraTS2021_00775', 'BraTS2021_00788', 'BraTS2021_00800', 'BraTS2021_00805', 'BraTS2021_00807', 'BraTS2021_00816', 'BraTS2021_00828', 'BraTS2021_00838', 'BraTS2021_01021', 'BraTS2021_01023', 'BraTS2021_01034', 'BraTS2021_01050', 'BraTS2021_01051', 'BraTS2021_01057', 'BraTS2021_01063', 'BraTS2021_01071', 'BraTS2021_01073', 'BraTS2021_01074', 'BraTS2021_01083', 'BraTS2021_01088', 'BraTS2021_01100', 'BraTS2021_01106', 'BraTS2021_01119', 'BraTS2021_01139', 'BraTS2021_01171', 'BraTS2021_01176', 'BraTS2021_01177', 'BraTS2021_01180', 'BraTS2021_01185', 'BraTS2021_01189', 'BraTS2021_01190', 'BraTS2021_01204', 'BraTS2021_01210', 'BraTS2021_01212', 'BraTS2021_01214', 'BraTS2021_01215', 'BraTS2021_01223', 'BraTS2021_01226', 'BraTS2021_01233', 'BraTS2021_01235', 'BraTS2021_01242', 'BraTS2021_01243', 'BraTS2021_01252', 'BraTS2021_01260', 'BraTS2021_01277', 'BraTS2021_01283', 'BraTS2021_01289', 'BraTS2021_01302', 'BraTS2021_01305', 'BraTS2021_01306', 'BraTS2021_01309', 'BraTS2021_01315', 'BraTS2021_01317', 'BraTS2021_01326', 'BraTS2021_01338', 'BraTS2021_01349', 'BraTS2021_01350', 'BraTS2021_01356', 'BraTS2021_01363', 'BraTS2021_01369', 'BraTS2021_01372', 'BraTS2021_01386', 'BraTS2021_01397', 'BraTS2021_01412', 'BraTS2021_01416', 'BraTS2021_01419', 'BraTS2021_01421', 'BraTS2021_01438', 'BraTS2021_01457', 'BraTS2021_01458', 'BraTS2021_01461', 'BraTS2021_01463', 'BraTS2021_01465', 'BraTS2021_01478', 'BraTS2021_01479', 'BraTS2021_01483', 'BraTS2021_01489', 'BraTS2021_01492', 'BraTS2021_01497', 'BraTS2021_01507', 'BraTS2021_01530', 'BraTS2021_01542', 'BraTS2021_01559', 'BraTS2021_01562', 'BraTS2021_01571', 'BraTS2021_01584', 'BraTS2021_01588', 'BraTS2021_01593', 'BraTS2021_01597', 'BraTS2021_01599', 'BraTS2021_01605', 'BraTS2021_01610', 'BraTS2021_01614', 'BraTS2021_01620', 'BraTS2021_01626', 'BraTS2021_01629', 'BraTS2021_01630', 'BraTS2021_01632', 'BraTS2021_01637', 'BraTS2021_01655', 'BraTS2021_01663', 'BraTS2021_01664', 'BraTS2021_01665']\n",
      "['BraTS2021_00002', 'BraTS2021_00003', 'BraTS2021_00005', 'BraTS2021_00006', 'BraTS2021_00009', 'BraTS2021_00011', 'BraTS2021_00014', 'BraTS2021_00017', 'BraTS2021_00018', 'BraTS2021_00019', 'BraTS2021_00020', 'BraTS2021_00021', 'BraTS2021_00022', 'BraTS2021_00024', 'BraTS2021_00025', 'BraTS2021_00026', 'BraTS2021_00030', 'BraTS2021_00031', 'BraTS2021_00032', 'BraTS2021_00033', 'BraTS2021_00044', 'BraTS2021_00045', 'BraTS2021_00046', 'BraTS2021_00049', 'BraTS2021_00051', 'BraTS2021_00053', 'BraTS2021_00054', 'BraTS2021_00058', 'BraTS2021_00059', 'BraTS2021_00060', 'BraTS2021_00062', 'BraTS2021_00066', 'BraTS2021_00068', 'BraTS2021_00071', 'BraTS2021_00072', 'BraTS2021_00074', 'BraTS2021_00077', 'BraTS2021_00078', 'BraTS2021_00081', 'BraTS2021_00084', 'BraTS2021_00087', 'BraTS2021_00088', 'BraTS2021_00095', 'BraTS2021_00097', 'BraTS2021_00098', 'BraTS2021_00099', 'BraTS2021_00100', 'BraTS2021_00101', 'BraTS2021_00102', 'BraTS2021_00103', 'BraTS2021_00104', 'BraTS2021_00105', 'BraTS2021_00107', 'BraTS2021_00108', 'BraTS2021_00110', 'BraTS2021_00113', 'BraTS2021_00115', 'BraTS2021_00116', 'BraTS2021_00117', 'BraTS2021_00118', 'BraTS2021_00120', 'BraTS2021_00122', 'BraTS2021_00123', 'BraTS2021_00126', 'BraTS2021_00127', 'BraTS2021_00128', 'BraTS2021_00130', 'BraTS2021_00131', 'BraTS2021_00132', 'BraTS2021_00133', 'BraTS2021_00134', 'BraTS2021_00136', 'BraTS2021_00137', 'BraTS2021_00138', 'BraTS2021_00140', 'BraTS2021_00142', 'BraTS2021_00143', 'BraTS2021_00144', 'BraTS2021_00146', 'BraTS2021_00147', 'BraTS2021_00148', 'BraTS2021_00149', 'BraTS2021_00150', 'BraTS2021_00152', 'BraTS2021_00155', 'BraTS2021_00159', 'BraTS2021_00160', 'BraTS2021_00165', 'BraTS2021_00167', 'BraTS2021_00171', 'BraTS2021_00176', 'BraTS2021_00177', 'BraTS2021_00178', 'BraTS2021_00183', 'BraTS2021_00187', 'BraTS2021_00192', 'BraTS2021_00193', 'BraTS2021_00194', 'BraTS2021_00196', 'BraTS2021_00199', 'BraTS2021_00201', 'BraTS2021_00203', 'BraTS2021_00204', 'BraTS2021_00206', 'BraTS2021_00207', 'BraTS2021_00209', 'BraTS2021_00210', 'BraTS2021_00211', 'BraTS2021_00212', 'BraTS2021_00214', 'BraTS2021_00216', 'BraTS2021_00217', 'BraTS2021_00218', 'BraTS2021_00220', 'BraTS2021_00221', 'BraTS2021_00222', 'BraTS2021_00227', 'BraTS2021_00228', 'BraTS2021_00231', 'BraTS2021_00233', 'BraTS2021_00234', 'BraTS2021_00235', 'BraTS2021_00237', 'BraTS2021_00238', 'BraTS2021_00239', 'BraTS2021_00240', 'BraTS2021_00243', 'BraTS2021_00246', 'BraTS2021_00251', 'BraTS2021_00253', 'BraTS2021_00254', 'BraTS2021_00258', 'BraTS2021_00262', 'BraTS2021_00266', 'BraTS2021_00267', 'BraTS2021_00271', 'BraTS2021_00273', 'BraTS2021_00280', 'BraTS2021_00281', 'BraTS2021_00282', 'BraTS2021_00283', 'BraTS2021_00284', 'BraTS2021_00285', 'BraTS2021_00289', 'BraTS2021_00290', 'BraTS2021_00292', 'BraTS2021_00293', 'BraTS2021_00294', 'BraTS2021_00296', 'BraTS2021_00297', 'BraTS2021_00298', 'BraTS2021_00299', 'BraTS2021_00301', 'BraTS2021_00303', 'BraTS2021_00304', 'BraTS2021_00309', 'BraTS2021_00310', 'BraTS2021_00311', 'BraTS2021_00312', 'BraTS2021_00313', 'BraTS2021_00314', 'BraTS2021_00316', 'BraTS2021_00317', 'BraTS2021_00318', 'BraTS2021_00320', 'BraTS2021_00321', 'BraTS2021_00324', 'BraTS2021_00325', 'BraTS2021_00327', 'BraTS2021_00329', 'BraTS2021_00331', 'BraTS2021_00332', 'BraTS2021_00336', 'BraTS2021_00338', 'BraTS2021_00339', 'BraTS2021_00340', 'BraTS2021_00341', 'BraTS2021_00343', 'BraTS2021_00344', 'BraTS2021_00346', 'BraTS2021_00348', 'BraTS2021_00349', 'BraTS2021_00350', 'BraTS2021_00352', 'BraTS2021_00353', 'BraTS2021_00356', 'BraTS2021_00360', 'BraTS2021_00364', 'BraTS2021_00366', 'BraTS2021_00369', 'BraTS2021_00370', 'BraTS2021_00371', 'BraTS2021_00373', 'BraTS2021_00375', 'BraTS2021_00377', 'BraTS2021_00379', 'BraTS2021_00380', 'BraTS2021_00383', 'BraTS2021_00386', 'BraTS2021_00388', 'BraTS2021_00389', 'BraTS2021_00390', 'BraTS2021_00392', 'BraTS2021_00397', 'BraTS2021_00399', 'BraTS2021_00400', 'BraTS2021_00401', 'BraTS2021_00403', 'BraTS2021_00404', 'BraTS2021_00405', 'BraTS2021_00406', 'BraTS2021_00407', 'BraTS2021_00410', 'BraTS2021_00413', 'BraTS2021_00416', 'BraTS2021_00417', 'BraTS2021_00418', 'BraTS2021_00419', 'BraTS2021_00421', 'BraTS2021_00432', 'BraTS2021_00433', 'BraTS2021_00440', 'BraTS2021_00442', 'BraTS2021_00443', 'BraTS2021_00446', 'BraTS2021_00449', 'BraTS2021_00451', 'BraTS2021_00452', 'BraTS2021_00453', 'BraTS2021_00454', 'BraTS2021_00455', 'BraTS2021_00456', 'BraTS2021_00457', 'BraTS2021_00459', 'BraTS2021_00464', 'BraTS2021_00466', 'BraTS2021_00468', 'BraTS2021_00472', 'BraTS2021_00477', 'BraTS2021_00478', 'BraTS2021_00479', 'BraTS2021_00480', 'BraTS2021_00481', 'BraTS2021_00485', 'BraTS2021_00488', 'BraTS2021_00496', 'BraTS2021_00498', 'BraTS2021_00499', 'BraTS2021_00500', 'BraTS2021_00501', 'BraTS2021_00505', 'BraTS2021_00506', 'BraTS2021_00510', 'BraTS2021_00511', 'BraTS2021_00512', 'BraTS2021_00514', 'BraTS2021_00516', 'BraTS2021_00518', 'BraTS2021_00519', 'BraTS2021_00520', 'BraTS2021_00523', 'BraTS2021_00524', 'BraTS2021_00525', 'BraTS2021_00526', 'BraTS2021_00528', 'BraTS2021_00529', 'BraTS2021_00532', 'BraTS2021_00533', 'BraTS2021_00538', 'BraTS2021_00539', 'BraTS2021_00540', 'BraTS2021_00542', 'BraTS2021_00543', 'BraTS2021_00544', 'BraTS2021_00548', 'BraTS2021_00549', 'BraTS2021_00550', 'BraTS2021_00551', 'BraTS2021_00554', 'BraTS2021_00555', 'BraTS2021_00557', 'BraTS2021_00558', 'BraTS2021_00559', 'BraTS2021_00561', 'BraTS2021_00565', 'BraTS2021_00567', 'BraTS2021_00568', 'BraTS2021_00569', 'BraTS2021_00570', 'BraTS2021_00572', 'BraTS2021_00576', 'BraTS2021_00577', 'BraTS2021_00578', 'BraTS2021_00579', 'BraTS2021_00582', 'BraTS2021_00584', 'BraTS2021_00586', 'BraTS2021_00587', 'BraTS2021_00588', 'BraTS2021_00589', 'BraTS2021_00590', 'BraTS2021_00591', 'BraTS2021_00596', 'BraTS2021_00597', 'BraTS2021_00599', 'BraTS2021_00601', 'BraTS2021_00604', 'BraTS2021_00605', 'BraTS2021_00606', 'BraTS2021_00607', 'BraTS2021_00610', 'BraTS2021_00611', 'BraTS2021_00612', 'BraTS2021_00613', 'BraTS2021_00615', 'BraTS2021_00616', 'BraTS2021_00618', 'BraTS2021_00619', 'BraTS2021_00620', 'BraTS2021_00621', 'BraTS2021_00622', 'BraTS2021_00626', 'BraTS2021_00630', 'BraTS2021_00631', 'BraTS2021_00638', 'BraTS2021_00639', 'BraTS2021_00640', 'BraTS2021_00641', 'BraTS2021_00642', 'BraTS2021_00645', 'BraTS2021_00649', 'BraTS2021_00651', 'BraTS2021_00652', 'BraTS2021_00654', 'BraTS2021_00656', 'BraTS2021_00658', 'BraTS2021_00663', 'BraTS2021_00667', 'BraTS2021_00674', 'BraTS2021_00675', 'BraTS2021_00677', 'BraTS2021_00679', 'BraTS2021_00680', 'BraTS2021_00682', 'BraTS2021_00683', 'BraTS2021_00685', 'BraTS2021_00686', 'BraTS2021_00688', 'BraTS2021_00689', 'BraTS2021_00691', 'BraTS2021_00692', 'BraTS2021_00693', 'BraTS2021_00694', 'BraTS2021_00697', 'BraTS2021_00704', 'BraTS2021_00707', 'BraTS2021_00708', 'BraTS2021_00709', 'BraTS2021_00714', 'BraTS2021_00715', 'BraTS2021_00716', 'BraTS2021_00718', 'BraTS2021_00724', 'BraTS2021_00727', 'BraTS2021_00728', 'BraTS2021_00729', 'BraTS2021_00730', 'BraTS2021_00731', 'BraTS2021_00732', 'BraTS2021_00734', 'BraTS2021_00735', 'BraTS2021_00736', 'BraTS2021_00737', 'BraTS2021_00739', 'BraTS2021_00740', 'BraTS2021_00742', 'BraTS2021_00746', 'BraTS2021_00747', 'BraTS2021_00753', 'BraTS2021_00757', 'BraTS2021_00758', 'BraTS2021_00760', 'BraTS2021_00764', 'BraTS2021_00765', 'BraTS2021_00767', 'BraTS2021_00773', 'BraTS2021_00777', 'BraTS2021_00778', 'BraTS2021_00780', 'BraTS2021_00781', 'BraTS2021_00782', 'BraTS2021_00784', 'BraTS2021_00787', 'BraTS2021_00789', 'BraTS2021_00791', 'BraTS2021_00792', 'BraTS2021_00793', 'BraTS2021_00795', 'BraTS2021_00796', 'BraTS2021_00799', 'BraTS2021_00802', 'BraTS2021_00803', 'BraTS2021_00804', 'BraTS2021_00806', 'BraTS2021_00808', 'BraTS2021_00809', 'BraTS2021_00810', 'BraTS2021_00811', 'BraTS2021_00814', 'BraTS2021_00818', 'BraTS2021_00819', 'BraTS2021_00820', 'BraTS2021_00823', 'BraTS2021_00824', 'BraTS2021_00830', 'BraTS2021_00831', 'BraTS2021_00834', 'BraTS2021_00836', 'BraTS2021_00837', 'BraTS2021_00840', 'BraTS2021_00999', 'BraTS2021_01000', 'BraTS2021_01001', 'BraTS2021_01002', 'BraTS2021_01003', 'BraTS2021_01004', 'BraTS2021_01005', 'BraTS2021_01007', 'BraTS2021_01008', 'BraTS2021_01009', 'BraTS2021_01010', 'BraTS2021_01011', 'BraTS2021_01012', 'BraTS2021_01013', 'BraTS2021_01014', 'BraTS2021_01015', 'BraTS2021_01018', 'BraTS2021_01019', 'BraTS2021_01020', 'BraTS2021_01022', 'BraTS2021_01024', 'BraTS2021_01025', 'BraTS2021_01026', 'BraTS2021_01027', 'BraTS2021_01028', 'BraTS2021_01029', 'BraTS2021_01030', 'BraTS2021_01033', 'BraTS2021_01035', 'BraTS2021_01037', 'BraTS2021_01038', 'BraTS2021_01039', 'BraTS2021_01040', 'BraTS2021_01041', 'BraTS2021_01042', 'BraTS2021_01043', 'BraTS2021_01044', 'BraTS2021_01045', 'BraTS2021_01046', 'BraTS2021_01047', 'BraTS2021_01048', 'BraTS2021_01049', 'BraTS2021_01052', 'BraTS2021_01053', 'BraTS2021_01055', 'BraTS2021_01056', 'BraTS2021_01058', 'BraTS2021_01059', 'BraTS2021_01060', 'BraTS2021_01061', 'BraTS2021_01062', 'BraTS2021_01064', 'BraTS2021_01065', 'BraTS2021_01066', 'BraTS2021_01067', 'BraTS2021_01068', 'BraTS2021_01069', 'BraTS2021_01070', 'BraTS2021_01072', 'BraTS2021_01075', 'BraTS2021_01076', 'BraTS2021_01077', 'BraTS2021_01079', 'BraTS2021_01080', 'BraTS2021_01081', 'BraTS2021_01084', 'BraTS2021_01085', 'BraTS2021_01086', 'BraTS2021_01087', 'BraTS2021_01090', 'BraTS2021_01091', 'BraTS2021_01092', 'BraTS2021_01093', 'BraTS2021_01094', 'BraTS2021_01095', 'BraTS2021_01096', 'BraTS2021_01097', 'BraTS2021_01098', 'BraTS2021_01099', 'BraTS2021_01101', 'BraTS2021_01102', 'BraTS2021_01103', 'BraTS2021_01104', 'BraTS2021_01105', 'BraTS2021_01107', 'BraTS2021_01108', 'BraTS2021_01109', 'BraTS2021_01110', 'BraTS2021_01111', 'BraTS2021_01112', 'BraTS2021_01113', 'BraTS2021_01114', 'BraTS2021_01115', 'BraTS2021_01116', 'BraTS2021_01117', 'BraTS2021_01118', 'BraTS2021_01120', 'BraTS2021_01121', 'BraTS2021_01123', 'BraTS2021_01124', 'BraTS2021_01125', 'BraTS2021_01127', 'BraTS2021_01128', 'BraTS2021_01129', 'BraTS2021_01130', 'BraTS2021_01131', 'BraTS2021_01132', 'BraTS2021_01133', 'BraTS2021_01136', 'BraTS2021_01137', 'BraTS2021_01138', 'BraTS2021_01140', 'BraTS2021_01141', 'BraTS2021_01142', 'BraTS2021_01143', 'BraTS2021_01144', 'BraTS2021_01145', 'BraTS2021_01146', 'BraTS2021_01147', 'BraTS2021_01148', 'BraTS2021_01149', 'BraTS2021_01150', 'BraTS2021_01151', 'BraTS2021_01152', 'BraTS2021_01153', 'BraTS2021_01154', 'BraTS2021_01155', 'BraTS2021_01156', 'BraTS2021_01157', 'BraTS2021_01158', 'BraTS2021_01159', 'BraTS2021_01160', 'BraTS2021_01161', 'BraTS2021_01162', 'BraTS2021_01163', 'BraTS2021_01164', 'BraTS2021_01165', 'BraTS2021_01166', 'BraTS2021_01167', 'BraTS2021_01169', 'BraTS2021_01170', 'BraTS2021_01172', 'BraTS2021_01173', 'BraTS2021_01174', 'BraTS2021_01175', 'BraTS2021_01178', 'BraTS2021_01179', 'BraTS2021_01181', 'BraTS2021_01182', 'BraTS2021_01183', 'BraTS2021_01184', 'BraTS2021_01186', 'BraTS2021_01187', 'BraTS2021_01188', 'BraTS2021_01191', 'BraTS2021_01193', 'BraTS2021_01194', 'BraTS2021_01195', 'BraTS2021_01197', 'BraTS2021_01198', 'BraTS2021_01199', 'BraTS2021_01200', 'BraTS2021_01201', 'BraTS2021_01202', 'BraTS2021_01203', 'BraTS2021_01205', 'BraTS2021_01206', 'BraTS2021_01207', 'BraTS2021_01208', 'BraTS2021_01211', 'BraTS2021_01213', 'BraTS2021_01216', 'BraTS2021_01217', 'BraTS2021_01218', 'BraTS2021_01219', 'BraTS2021_01220', 'BraTS2021_01221', 'BraTS2021_01222', 'BraTS2021_01224', 'BraTS2021_01225', 'BraTS2021_01227', 'BraTS2021_01228', 'BraTS2021_01229', 'BraTS2021_01230', 'BraTS2021_01231', 'BraTS2021_01232', 'BraTS2021_01236', 'BraTS2021_01237', 'BraTS2021_01238', 'BraTS2021_01239', 'BraTS2021_01241', 'BraTS2021_01244', 'BraTS2021_01245', 'BraTS2021_01246', 'BraTS2021_01247', 'BraTS2021_01248', 'BraTS2021_01249', 'BraTS2021_01250', 'BraTS2021_01253', 'BraTS2021_01254', 'BraTS2021_01255', 'BraTS2021_01257', 'BraTS2021_01258', 'BraTS2021_01259', 'BraTS2021_01261', 'BraTS2021_01262', 'BraTS2021_01264', 'BraTS2021_01265', 'BraTS2021_01266', 'BraTS2021_01268', 'BraTS2021_01270', 'BraTS2021_01271', 'BraTS2021_01272', 'BraTS2021_01273', 'BraTS2021_01274', 'BraTS2021_01275', 'BraTS2021_01276', 'BraTS2021_01278', 'BraTS2021_01279', 'BraTS2021_01282', 'BraTS2021_01284', 'BraTS2021_01285', 'BraTS2021_01286', 'BraTS2021_01287', 'BraTS2021_01288', 'BraTS2021_01290', 'BraTS2021_01292', 'BraTS2021_01293', 'BraTS2021_01294', 'BraTS2021_01295', 'BraTS2021_01296', 'BraTS2021_01297', 'BraTS2021_01298', 'BraTS2021_01299', 'BraTS2021_01300', 'BraTS2021_01301', 'BraTS2021_01303', 'BraTS2021_01304', 'BraTS2021_01307', 'BraTS2021_01308', 'BraTS2021_01310', 'BraTS2021_01311', 'BraTS2021_01312', 'BraTS2021_01313', 'BraTS2021_01314', 'BraTS2021_01316', 'BraTS2021_01318', 'BraTS2021_01319', 'BraTS2021_01320', 'BraTS2021_01321', 'BraTS2021_01322', 'BraTS2021_01323', 'BraTS2021_01324', 'BraTS2021_01325', 'BraTS2021_01327', 'BraTS2021_01328', 'BraTS2021_01329', 'BraTS2021_01331', 'BraTS2021_01332', 'BraTS2021_01334', 'BraTS2021_01335', 'BraTS2021_01336', 'BraTS2021_01337', 'BraTS2021_01339', 'BraTS2021_01340', 'BraTS2021_01341', 'BraTS2021_01342', 'BraTS2021_01343', 'BraTS2021_01344', 'BraTS2021_01345', 'BraTS2021_01346', 'BraTS2021_01347', 'BraTS2021_01348', 'BraTS2021_01351', 'BraTS2021_01352', 'BraTS2021_01354', 'BraTS2021_01355', 'BraTS2021_01357', 'BraTS2021_01358', 'BraTS2021_01359', 'BraTS2021_01360', 'BraTS2021_01361', 'BraTS2021_01364', 'BraTS2021_01365', 'BraTS2021_01366', 'BraTS2021_01367', 'BraTS2021_01368', 'BraTS2021_01370', 'BraTS2021_01371', 'BraTS2021_01373', 'BraTS2021_01374', 'BraTS2021_01375', 'BraTS2021_01376', 'BraTS2021_01377', 'BraTS2021_01378', 'BraTS2021_01379', 'BraTS2021_01380', 'BraTS2021_01382', 'BraTS2021_01383', 'BraTS2021_01384', 'BraTS2021_01385', 'BraTS2021_01387', 'BraTS2021_01388', 'BraTS2021_01389', 'BraTS2021_01390', 'BraTS2021_01391', 'BraTS2021_01392', 'BraTS2021_01393', 'BraTS2021_01395', 'BraTS2021_01396', 'BraTS2021_01398', 'BraTS2021_01399', 'BraTS2021_01400', 'BraTS2021_01401', 'BraTS2021_01404', 'BraTS2021_01405', 'BraTS2021_01407', 'BraTS2021_01408', 'BraTS2021_01409', 'BraTS2021_01410', 'BraTS2021_01411', 'BraTS2021_01413', 'BraTS2021_01414', 'BraTS2021_01415', 'BraTS2021_01417', 'BraTS2021_01418', 'BraTS2021_01420', 'BraTS2021_01422', 'BraTS2021_01423', 'BraTS2021_01424', 'BraTS2021_01425', 'BraTS2021_01426', 'BraTS2021_01427', 'BraTS2021_01428', 'BraTS2021_01429', 'BraTS2021_01430', 'BraTS2021_01431', 'BraTS2021_01432', 'BraTS2021_01433', 'BraTS2021_01434', 'BraTS2021_01436', 'BraTS2021_01437', 'BraTS2021_01439', 'BraTS2021_01440', 'BraTS2021_01441', 'BraTS2021_01442', 'BraTS2021_01443', 'BraTS2021_01444', 'BraTS2021_01446', 'BraTS2021_01447', 'BraTS2021_01448', 'BraTS2021_01449', 'BraTS2021_01451', 'BraTS2021_01452', 'BraTS2021_01453', 'BraTS2021_01454', 'BraTS2021_01455', 'BraTS2021_01456', 'BraTS2021_01459', 'BraTS2021_01460', 'BraTS2021_01462', 'BraTS2021_01464', 'BraTS2021_01466', 'BraTS2021_01467', 'BraTS2021_01468', 'BraTS2021_01469', 'BraTS2021_01470', 'BraTS2021_01472', 'BraTS2021_01473', 'BraTS2021_01474', 'BraTS2021_01475', 'BraTS2021_01476', 'BraTS2021_01477', 'BraTS2021_01480', 'BraTS2021_01481', 'BraTS2021_01482', 'BraTS2021_01484', 'BraTS2021_01485', 'BraTS2021_01486', 'BraTS2021_01488', 'BraTS2021_01490', 'BraTS2021_01491', 'BraTS2021_01493', 'BraTS2021_01494', 'BraTS2021_01495', 'BraTS2021_01496', 'BraTS2021_01498', 'BraTS2021_01499', 'BraTS2021_01501', 'BraTS2021_01502', 'BraTS2021_01503', 'BraTS2021_01504', 'BraTS2021_01505', 'BraTS2021_01506', 'BraTS2021_01508', 'BraTS2021_01509', 'BraTS2021_01510', 'BraTS2021_01511', 'BraTS2021_01512', 'BraTS2021_01513', 'BraTS2021_01514', 'BraTS2021_01515', 'BraTS2021_01517', 'BraTS2021_01518', 'BraTS2021_01519', 'BraTS2021_01520', 'BraTS2021_01521', 'BraTS2021_01522', 'BraTS2021_01523', 'BraTS2021_01524', 'BraTS2021_01525', 'BraTS2021_01526', 'BraTS2021_01529', 'BraTS2021_01531', 'BraTS2021_01532', 'BraTS2021_01533', 'BraTS2021_01534', 'BraTS2021_01536', 'BraTS2021_01537', 'BraTS2021_01538', 'BraTS2021_01539', 'BraTS2021_01540', 'BraTS2021_01541', 'BraTS2021_01543', 'BraTS2021_01544', 'BraTS2021_01545', 'BraTS2021_01546', 'BraTS2021_01547', 'BraTS2021_01548', 'BraTS2021_01549', 'BraTS2021_01550', 'BraTS2021_01551', 'BraTS2021_01553', 'BraTS2021_01554', 'BraTS2021_01555', 'BraTS2021_01556', 'BraTS2021_01557', 'BraTS2021_01558', 'BraTS2021_01560', 'BraTS2021_01561', 'BraTS2021_01563', 'BraTS2021_01564', 'BraTS2021_01565', 'BraTS2021_01566', 'BraTS2021_01567', 'BraTS2021_01568', 'BraTS2021_01569', 'BraTS2021_01570', 'BraTS2021_01573', 'BraTS2021_01574', 'BraTS2021_01575', 'BraTS2021_01576', 'BraTS2021_01577', 'BraTS2021_01578', 'BraTS2021_01579', 'BraTS2021_01580', 'BraTS2021_01581', 'BraTS2021_01582', 'BraTS2021_01583', 'BraTS2021_01585', 'BraTS2021_01586', 'BraTS2021_01587', 'BraTS2021_01590', 'BraTS2021_01591', 'BraTS2021_01592', 'BraTS2021_01594', 'BraTS2021_01595', 'BraTS2021_01598', 'BraTS2021_01600', 'BraTS2021_01601', 'BraTS2021_01602', 'BraTS2021_01603', 'BraTS2021_01604', 'BraTS2021_01606', 'BraTS2021_01607', 'BraTS2021_01608', 'BraTS2021_01609', 'BraTS2021_01611', 'BraTS2021_01612', 'BraTS2021_01613', 'BraTS2021_01615', 'BraTS2021_01616', 'BraTS2021_01617', 'BraTS2021_01618', 'BraTS2021_01619', 'BraTS2021_01621', 'BraTS2021_01622', 'BraTS2021_01623', 'BraTS2021_01624', 'BraTS2021_01625', 'BraTS2021_01627', 'BraTS2021_01628', 'BraTS2021_01633', 'BraTS2021_01634', 'BraTS2021_01635', 'BraTS2021_01636', 'BraTS2021_01638', 'BraTS2021_01639', 'BraTS2021_01640', 'BraTS2021_01642', 'BraTS2021_01643', 'BraTS2021_01644', 'BraTS2021_01645', 'BraTS2021_01647', 'BraTS2021_01648', 'BraTS2021_01649', 'BraTS2021_01650', 'BraTS2021_01651', 'BraTS2021_01652', 'BraTS2021_01653', 'BraTS2021_01654', 'BraTS2021_01656', 'BraTS2021_01657', 'BraTS2021_01658', 'BraTS2021_01659', 'BraTS2021_01660', 'BraTS2021_01662', 'BraTS2021_01666']\n"
     ]
    }
   ]
  },
  {
   "cell_type": "code",
   "source": [
    "batch_size = 100\n",
    "num_batches = len(dir_val) // batch_size\n",
    "\n",
    "for batch_idx in range(num_batches):\n",
    "    start = batch_idx * batch_size\n",
    "    end = start + batch_size\n",
    "    preprocess_batch(start, end, batch_idx, 'val')"
   ],
   "metadata": {
    "colab": {
     "base_uri": "https://localhost:8080/"
    },
    "id": "_7DWEtfJTqwk",
    "executionInfo": {
     "status": "ok",
     "timestamp": 1685999300594,
     "user_tz": 240,
     "elapsed": 1001933,
     "user": {
      "displayName": "yumeng zhang",
      "userId": "05463727220540588674"
     }
    },
    "outputId": "cdc5cd0d-afe2-45a9-b314-b5fff781e3ac"
   },
   "execution_count": null,
   "outputs": [
    {
     "output_type": "stream",
     "name": "stderr",
     "text": [
      "100%|██████████| 100/100 [13:07<00:00,  7.88s/it]\n"
     ]
    }
   ]
  },
  {
   "cell_type": "code",
   "source": [
    "batch_size = 100\n",
    "num_batches = len(dir_test) // batch_size\n",
    "\n",
    "for batch_idx in range(num_batches):\n",
    "    start = batch_idx * batch_size\n",
    "    end = start + batch_size\n",
    "    preprocess_batch(start, end, batch_idx, 'test')"
   ],
   "metadata": {
    "colab": {
     "base_uri": "https://localhost:8080/"
    },
    "id": "xz6JLM6OY9Wi",
    "executionInfo": {
     "status": "ok",
     "timestamp": 1686001345627,
     "user_tz": 240,
     "elapsed": 1973575,
     "user": {
      "displayName": "yumeng zhang",
      "userId": "05463727220540588674"
     }
    },
    "outputId": "3db239c0-e9a9-4b04-d399-06a8cc1e248a"
   },
   "execution_count": null,
   "outputs": [
    {
     "output_type": "stream",
     "name": "stderr",
     "text": [
      "100%|██████████| 100/100 [13:39<00:00,  8.20s/it]\n",
      "100%|██████████| 100/100 [12:23<00:00,  7.43s/it]\n"
     ]
    }
   ]
  },
  {
   "cell_type": "code",
   "source": [
    "path = output_path\n",
    "loaded_data = np.load(path)"
   ],
   "metadata": {
    "id": "YymAZGskbr6m"
   },
   "execution_count": null,
   "outputs": []
  },
  {
   "cell_type": "code",
   "source": [
    "print(loaded_data[\"weak_labels\"])"
   ],
   "metadata": {
    "colab": {
     "base_uri": "https://localhost:8080/"
    },
    "id": "h9Qkd0uIBZwi",
    "executionInfo": {
     "status": "ok",
     "timestamp": 1685983234917,
     "user_tz": 240,
     "elapsed": 187,
     "user": {
      "displayName": "yumeng zhang",
      "userId": "05463727220540588674"
     }
    },
    "outputId": "80353dfa-71de-4311-9010-731ef2233756"
   },
   "execution_count": null,
   "outputs": [
    {
     "output_type": "stream",
     "name": "stdout",
     "text": [
      "[0 0 0 1 1 1 1 1 1 1 1 1 1 1 1 1 1 1 1 1 1 1 1 1 1 1 1 1 1 1 1 1 1 1 1 1 1\n",
      " 1 1 1 1 1 1 1 1 1 1 1 1 1 1 1 1 1 1 1 1 1 1 1 1 1 1 1 1 1 1 1 1 1 1 1 1 1\n",
      " 1 1 1 1 1 1 1 1 1 1 1 1 1 1 1 1 1 1 1 1 1 1 1 1 1 1 0 0 0 0 0 0 0 0 0 0 0\n",
      " 0 0 0 0 0 0 0 0 0 0 0 0 0 0 0 0 0 0 0 0 1 1 1 1 1 1 1 1 1 1 1 1 1 1 1 1 1\n",
      " 1 1 0 0 0 0 0 0 0 0 0 0 0 0 0 0 0 0 0 0 0 0 0 0 0 0 0 0 1 1 1 1 1 1 1 1 1\n",
      " 1 1 1 1 1 1 1 1 1 1 1 1 1 1 1 0 0 0 0 0 1 1 1 1 1 1 1 1 1 1 1 1 1 1 1 1 1\n",
      " 1 1 1 1 1 1 1 1 1 1 1 1 1 1 1 1 1 1 1 1 1 1 1 0 0 0 0 0 0 0 0 0 0 0 0 0 0\n",
      " 0 0 0 0 0 0 0 0 0 1 1 1 1 1 1 1 1 1 1 1 1 1 1 1 1 1 1 1 1 1 1 1 1 1 1 1 1\n",
      " 1 1 1 1 0 0 0 0 0 0 0 0 0 0 0 0 1 1 1 1 1 1 1 1 1 1 1 1 1 1 1 1 1 1 1 1 1\n",
      " 1 1 1 1 1 1 1 1 1 1 1 1 1 1 1 1 1 1 1 1 1 1 1 1 1 1 1 1 1 1 1 1 1 1 1 0 0\n",
      " 0 0 0 0 0 0 0 0 0 0 0 0 0 0 0 0 0 0 0 0 0 0 0 0 0 0 0 0 0 0 1 1 1 1 1 1 1\n",
      " 1 1 1 1 1 1 1 1 1 1 1 1 1 1 1 1 1 1 1 1 1 1 1 1 1 1 1 1 1 1 1 1 1 1 1 1 1\n",
      " 1 1 1 1 1 1 0 0 0 0 0 0 0 0 0 0 0 0 0 0 0 0 0 0 1 1 1 1 1 1 1 1 1 1 1 1 1\n",
      " 1 1 1 1 1 1 1 1 1 1 1 1 1 1 1 1 1 1 1]\n"
     ]
    }
   ]
  },
  {
   "cell_type": "code",
   "source": [
    "np.unique(loaded_data[\"weak_labels\"], return_counts=True)"
   ],
   "metadata": {
    "colab": {
     "base_uri": "https://localhost:8080/"
    },
    "id": "jwONGlnCbpOf",
    "executionInfo": {
     "status": "ok",
     "timestamp": 1685983264598,
     "user_tz": 240,
     "elapsed": 127,
     "user": {
      "displayName": "yumeng zhang",
      "userId": "05463727220540588674"
     }
    },
    "outputId": "8867f3b8-1c42-427e-db45-397938ac70c8"
   },
   "execution_count": null,
   "outputs": [
    {
     "output_type": "execute_result",
     "data": {
      "text/plain": [
       "(array([0, 1]), array([150, 350]))"
      ]
     },
     "metadata": {},
     "execution_count": 23
    }
   ]
  },
  {
   "cell_type": "code",
   "source": [
    "def visualize(index):\n",
    "    print(loaded_data[\"weak_labels\"][index])\n",
    "    fig = plt.figure()\n",
    "    ax = plt.subplot(2, 3, 1)\n",
    "    ax.imshow(loaded_data[\"images\"][index, 0, :, :], cmap='gray')\n",
    "    plt.axis(\"off\")\n",
    "\n",
    "    ax = plt.subplot(2, 3, 2)\n",
    "    ax.imshow(loaded_data[\"images\"][index, 1, :, :], cmap='gray')\n",
    "    plt.axis(\"off\")\n",
    "\n",
    "    ax = plt.subplot(2, 3, 3)\n",
    "    ax.imshow(loaded_data[\"images\"][index, 2, :, :], cmap='gray')\n",
    "    plt.axis(\"off\")\n",
    "\n",
    "    ax = plt.subplot(2, 3, 4)\n",
    "    ax.imshow(loaded_data[\"images\"][index, 3, :, :], cmap='gray')\n",
    "    plt.axis(\"off\")\n",
    "\n",
    "    ax = plt.subplot(2, 3, 5)\n",
    "    ax.imshow(loaded_data[\"labels\"][index, :, :])\n",
    "    plt.axis(\"off\")\n",
    "\n",
    "    plt.tight_layout()"
   ],
   "metadata": {
    "id": "j7fN-fkyn5Z5"
   },
   "execution_count": null,
   "outputs": []
  },
  {
   "cell_type": "code",
   "source": [
    "visualize(130)"
   ],
   "metadata": {
    "colab": {
     "base_uri": "https://localhost:8080/",
     "height": 474
    },
    "id": "8yVegmc9DGRH",
    "executionInfo": {
     "status": "ok",
     "timestamp": 1685983308837,
     "user_tz": 240,
     "elapsed": 20643,
     "user": {
      "displayName": "yumeng zhang",
      "userId": "05463727220540588674"
     }
    },
    "outputId": "e3b96805-4156-47d0-cd13-59d10749e3bb"
   },
   "execution_count": null,
   "outputs": [
    {
     "output_type": "stream",
     "name": "stdout",
     "text": [
      "0\n"
     ]
    },
    {
     "output_type": "display_data",
     "data": {
      "text/plain": [
       "<Figure size 640x480 with 5 Axes>"
      ],
      "image/png": "[encoded data removed]"
     },
     "metadata": {}
    }
   ]
  },
  {
   "cell_type": "code",
   "source": [
    "path = '/content/drive/MyDrive/diff_repaint/data/train_batch_0.npz'\n",
    "loaded_data = np.load(path)"
   ],
   "metadata": {
    "id": "A1wRTA0jS0ww",
    "executionInfo": {
     "status": "ok",
     "timestamp": 1687038402574,
     "user_tz": 240,
     "elapsed": 893,
     "user": {
      "displayName": "yumeng zhang",
      "userId": "05463727220540588674"
     }
    }
   },
   "execution_count": 5,
   "outputs": []
  },
  {
   "cell_type": "code",
   "source": [
    "print(loaded_data['images'])"
   ],
   "metadata": {
    "colab": {
     "base_uri": "https://localhost:8080/"
    },
    "id": "WgLu8yGKU03O",
    "executionInfo": {
     "status": "ok",
     "timestamp": 1687038446225,
     "user_tz": 240,
     "elapsed": 148,
     "user": {
      "displayName": "yumeng zhang",
      "userId": "05463727220540588674"
     }
    },
    "outputId": "b630cfd4-fae3-4dc7-d45a-4744c9d24082"
   },
   "execution_count": 7,
   "outputs": [
    {
     "output_type": "stream",
     "name": "stdout",
     "text": [
      "<bound method Mapping.keys of <numpy.lib.npyio.NpzFile object at 0x7fbbfc3979a0>>\n"
     ]
    }
   ]
  }
 ]
}
